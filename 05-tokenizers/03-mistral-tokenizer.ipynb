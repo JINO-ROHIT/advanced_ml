{
 "cells": [
  {
   "cell_type": "markdown",
   "metadata": {},
   "source": [
    "### walkthrough of mistral v3 tokenizer\n",
    "\n",
    "(https://docs.mistral.ai/guides/tokenization/)\n",
    "\n",
    "\n",
    "if youre read the primer on bpe , then this statement should make sense.\n",
    "\n",
    "mistral's v3 tokenizer uses the Byte-Pair Encoding (BPE) with Tiktoken. Its called tekken.\n",
    "\n",
    "Compression is how well the merges happen, so more the compression better the text is represented.\n",
    "\n",
    "Tekken was trained on more than 100 languages and compresses natural language text and source code more efficiently than the SentencePiece tokeniser used in previous Mistral models. In particular, it is ~30% more efficient at compressing source code in Chinese, Italian, French, German, Spanish, and Russian. It is also 2x and 3x more efficient at compressing Korean and Arabic, respectively. Compared to the Llama 3 tokeniser, Tekken proved more proficient in compressing text for approximately 85% of all languages.\n",
    "\n",
    "\n",
    "The vocab has 130k tokens + 1k control tokens.\n",
    "\n",
    "\n",
    "Control tokens\n",
    "\n",
    "```\n",
    "<unk>\n",
    "<s>\n",
    "</s>\n",
    "[INST]\n",
    "[/INST]\n",
    "[AVAILABLE_TOOLS]\n",
    "[/AVAILABLE_TOOLS]\n",
    "[TOOL_RESULTS]\n",
    "[/TOOL_RESULTS]\n",
    "[TOOL_CALLS]\n",
    "<pad>\n",
    "[PREFIX]\n",
    "[MIDDLE]\n",
    "[SUFFIX]\n",
    "```\n",
    "\n",
    "special tokens we use in the encoding process to represent specific instructions. These are not encoded rather just appended like this `[INST] + encode(“I love Paris”) + [/INST]`\n"
   ]
  },
  {
   "cell_type": "code",
   "execution_count": 3,
   "metadata": {},
   "outputs": [],
   "source": [
    "from mistral_common.protocol.instruct.messages import (\n",
    "    UserMessage,\n",
    ")\n",
    "from mistral_common.protocol.instruct.request import ChatCompletionRequest\n",
    "from mistral_common.protocol.instruct.tool_calls import (\n",
    "    Function,\n",
    "    Tool,\n",
    ")\n",
    "from mistral_common.tokens.tokenizers.mistral import MistralTokenizer\n",
    "\n",
    "tokenizer = MistralTokenizer.v3()"
   ]
  },
  {
   "cell_type": "code",
   "execution_count": 5,
   "metadata": {},
   "outputs": [],
   "source": [
    "# Tokenize a list of messages\n",
    "tokenized = tokenizer.encode_chat_completion(\n",
    "    ChatCompletionRequest(\n",
    "        tools=[\n",
    "            Tool(\n",
    "                function=Function(\n",
    "                    name=\"get_current_weather\",\n",
    "                    description=\"Get the current weather\",\n",
    "                    parameters={\n",
    "                        \"type\": \"object\",\n",
    "                        \"properties\": {\n",
    "                            \"location\": {\n",
    "                                \"type\": \"string\",\n",
    "                                \"description\": \"The city and state, e.g. San Francisco, CA\",\n",
    "                            },\n",
    "                            \"format\": {\n",
    "                                \"type\": \"string\",\n",
    "                                \"enum\": [\"celsius\", \"fahrenheit\"],\n",
    "                                \"description\": \"The temperature unit to use. Infer this from the users location.\",\n",
    "                            },\n",
    "                        },\n",
    "                        \"required\": [\"location\", \"format\"],\n",
    "                    },\n",
    "                )\n",
    "            )\n",
    "        ],\n",
    "        messages=[\n",
    "            UserMessage(content=\"What's the weather like today in Paris\"),\n",
    "        ],\n",
    "    )\n",
    ")\n",
    "tokens, text = tokenized.tokens, tokenized.text"
   ]
  },
  {
   "cell_type": "code",
   "execution_count": 10,
   "metadata": {},
   "outputs": [
    {
     "name": "stdout",
     "output_type": "stream",
     "text": [
      "'<s>[AVAILABLE_TOOLS]▁[{\"type\":▁\"function\",▁\"function\":▁{\"name\":▁\"get_current_weather\",▁\"description\":▁\"Get▁the▁current▁weather\",▁\"parameters\":▁{\"type\":▁\"object\",▁\"properties\":▁{\"location\":▁{\"type\":▁\"string\",▁\"description\":▁\"The▁city▁and▁state,▁e.g.▁San▁Francisco,▁CA\"},▁\"format\":▁{\"type\":▁\"string\",▁\"enum\":▁[\"celsius\",▁\"fahrenheit\"],▁\"description\":▁\"The▁temperature▁unit▁to▁use.▁Infer▁this▁from▁the▁users▁location.\"}},▁\"required\":▁[\"location\",▁\"format\"]}}}][/AVAILABLE_TOOLS][INST]▁What\\'s▁the▁weather▁like▁today▁in▁Paris[/INST]'\n"
     ]
    }
   ],
   "source": [
    "from pprint import pprint\n",
    "\n",
    "pprint(text)"
   ]
  },
  {
   "cell_type": "code",
   "execution_count": null,
   "metadata": {},
   "outputs": [],
   "source": []
  }
 ],
 "metadata": {
  "kernelspec": {
   "display_name": ".env",
   "language": "python",
   "name": "python3"
  },
  "language_info": {
   "codemirror_mode": {
    "name": "ipython",
    "version": 3
   },
   "file_extension": ".py",
   "mimetype": "text/x-python",
   "name": "python",
   "nbconvert_exporter": "python",
   "pygments_lexer": "ipython3",
   "version": "3.11.9"
  }
 },
 "nbformat": 4,
 "nbformat_minor": 2
}
