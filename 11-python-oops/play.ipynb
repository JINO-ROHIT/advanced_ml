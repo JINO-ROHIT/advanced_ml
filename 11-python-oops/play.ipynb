{
 "cells": [
  {
   "cell_type": "code",
   "execution_count": 8,
   "metadata": {},
   "outputs": [],
   "source": [
    "### the __repr__() magic method returns string for the object\n",
    "\n",
    "class Account:\n",
    "    '''\n",
    "    A simple bank account\n",
    "    '''\n",
    "    owner: str\n",
    "    balance: float\n",
    "\n",
    "    def __init__(self, owner, balance):\n",
    "        self.owner = owner\n",
    "        self.balance = balance\n",
    "\n",
    "    def __repr__(self):\n",
    "        return f'Account({self.owner!r}, {self.balance!r})'\n",
    "    \n",
    "    def deposit(self, amount):\n",
    "        self.balance += amount\n",
    "\n",
    "    def withdraw(self, amount):\n",
    "        self.balance-= amount\n",
    "\n",
    "    def inquiry(self):\n",
    "        return self.balance"
   ]
  },
  {
   "cell_type": "code",
   "execution_count": 9,
   "metadata": {},
   "outputs": [
    {
     "name": "stdout",
     "output_type": "stream",
     "text": [
      "Account('Guido', 1000)\n"
     ]
    }
   ],
   "source": [
    "a = Account('Guido', 1000) # what happens is Calls Account.__init__(a, 'Guido', 1000.0), the self is the object a\n",
    "print(a)"
   ]
  },
  {
   "cell_type": "code",
   "execution_count": 10,
   "metadata": {},
   "outputs": [
    {
     "name": "stdout",
     "output_type": "stream",
     "text": [
      "Guido\n",
      "Guido\n"
     ]
    }
   ],
   "source": [
    "## you can access using either the dot or the getattr\n",
    "print(a.owner)\n",
    "print( getattr(a, 'owner') )"
   ]
  },
  {
   "cell_type": "code",
   "execution_count": 12,
   "metadata": {},
   "outputs": [
    {
     "data": {
      "text/plain": [
       "{'owner': 'Guido', 'balance': 1000}"
      ]
     },
     "execution_count": 12,
     "metadata": {},
     "output_type": "execute_result"
    }
   ],
   "source": [
    "## You can view instance variables using the vars() function\n",
    "vars(a)"
   ]
  },
  {
   "cell_type": "code",
   "execution_count": 14,
   "metadata": {},
   "outputs": [
    {
     "data": {
      "text/plain": [
       "True"
      ]
     },
     "execution_count": 14,
     "metadata": {},
     "output_type": "execute_result"
    }
   ],
   "source": [
    "isinstance(a, Account) # checks if a is an instance of Account"
   ]
  },
  {
   "cell_type": "markdown",
   "metadata": {},
   "source": [
    "### Inheritance\n",
    "\n",
    "when you need to inherit the abilities of a super class in a new class"
   ]
  },
  {
   "cell_type": "code",
   "execution_count": 15,
   "metadata": {},
   "outputs": [],
   "source": [
    "class MyAcount(Account):\n",
    "    def panic(self):\n",
    "        self.withdraw(self.balance)"
   ]
  },
  {
   "cell_type": "code",
   "execution_count": 16,
   "metadata": {},
   "outputs": [
    {
     "name": "stdout",
     "output_type": "stream",
     "text": [
      "Account('guido', 1000)\n"
     ]
    }
   ],
   "source": [
    "inherited_a = MyAcount('guido', 1000)\n",
    "print(inherited_a)"
   ]
  },
  {
   "cell_type": "code",
   "execution_count": 19,
   "metadata": {},
   "outputs": [
    {
     "name": "stdout",
     "output_type": "stream",
     "text": [
      "Account('guido', 0)\n"
     ]
    }
   ],
   "source": [
    "inherited_a.panic()\n",
    "print(inherited_a)"
   ]
  },
  {
   "cell_type": "code",
   "execution_count": 21,
   "metadata": {},
   "outputs": [],
   "source": [
    "### subtle ways inheritance can break\n",
    "\n",
    "class Account:\n",
    "    def __init__(self, owner, balance):\n",
    "        self.owner = owner\n",
    "        self.balance = balance\n",
    "    def __repr__(self):\n",
    "        return f'Account({self.owner!r}, {self.balance!r})'\n",
    "\n",
    "class EvilAccount(Account):\n",
    "    pass"
   ]
  },
  {
   "cell_type": "code",
   "execution_count": 24,
   "metadata": {},
   "outputs": [
    {
     "name": "stdout",
     "output_type": "stream",
     "text": [
      "Account('guido', 10)\n"
     ]
    }
   ],
   "source": [
    "evil_a = EvilAccount('guido', 10)\n",
    "print(evil_a) # why is Account here, shouldnt it be EvilAccount"
   ]
  },
  {
   "cell_type": "code",
   "execution_count": 31,
   "metadata": {},
   "outputs": [],
   "source": [
    "class Account:\n",
    "    def __init__(self, owner, balance):\n",
    "        self.owner = owner\n",
    "        self.balance = balance\n",
    "    def __repr__(self):\n",
    "        return f'{type(self).__name__}({self.owner!r}, {self.balance!r})' # remeber self becomes evil_a\n",
    "\n",
    "class EvilAccount(Account):\n",
    "    pass"
   ]
  },
  {
   "cell_type": "code",
   "execution_count": 33,
   "metadata": {},
   "outputs": [
    {
     "name": "stdout",
     "output_type": "stream",
     "text": [
      "EvilAccount('guido', 10)\n"
     ]
    }
   ],
   "source": [
    "evil_a = EvilAccount('guido', 10)\n",
    "print(evil_a)"
   ]
  },
  {
   "cell_type": "code",
   "execution_count": 37,
   "metadata": {},
   "outputs": [
    {
     "data": {
      "text/plain": [
       "(True, True)"
      ]
     },
     "execution_count": 37,
     "metadata": {},
     "output_type": "execute_result"
    }
   ],
   "source": [
    "isinstance(evil_a, Account), isinstance(evil_a, EvilAccount)"
   ]
  },
  {
   "cell_type": "code",
   "execution_count": 42,
   "metadata": {},
   "outputs": [],
   "source": [
    "### class variables ---> instead of having variables on a instance level, you can have them on a class level\n",
    "\n",
    "# this program keeps track of how many times Account has been created\n",
    "\n",
    "class Account:\n",
    "    num_accounts = 0\n",
    "    def __init__(self, owner, balance):\n",
    "        self.owner = owner\n",
    "        self.balance = balance\n",
    "        Account.num_accounts += 1\n",
    "\n",
    "    def __repr__(self):\n",
    "        return f'{type(self).__name__}({self.owner!r}, {self.balance!r})'\n",
    "    \n",
    "    def deposit(self, amount):\n",
    "        self.balance += amount\n",
    "\n",
    "    def withdraw(self, amount):\n",
    "        self.deposit(-amount)\n",
    "\n",
    "    def inquiry(self):\n",
    "        return self.balance"
   ]
  },
  {
   "cell_type": "code",
   "execution_count": 43,
   "metadata": {},
   "outputs": [
    {
     "name": "stdout",
     "output_type": "stream",
     "text": [
      "2\n"
     ]
    },
    {
     "data": {
      "text/plain": [
       "(2, 2)"
      ]
     },
     "execution_count": 43,
     "metadata": {},
     "output_type": "execute_result"
    }
   ],
   "source": [
    "one = Account('guido', 10)\n",
    "two = Account('ray', 20)\n",
    "\n",
    "print(Account.num_accounts)\n",
    "\n",
    "#you can also invoke it using the object\n",
    "one.num_accounts, two.num_accounts"
   ]
  },
  {
   "cell_type": "code",
   "execution_count": 44,
   "metadata": {},
   "outputs": [
    {
     "name": "stdout",
     "output_type": "stream",
     "text": [
      "Obtained Marks: 100\n"
     ]
    }
   ],
   "source": [
    "### class methods, these are methods that are bound to the class and not the instance, here the cls is the class itself\n",
    "\n",
    "class Student:\n",
    "    marks = 0\n",
    "\n",
    "    @classmethod\n",
    "    def compute_marks(cls, obtained_marks):\n",
    "        cls.marks = obtained_marks\n",
    "        print('Obtained Marks:', cls.marks)\n",
    "\n",
    "Student.compute_marks(100)"
   ]
  },
  {
   "cell_type": "code",
   "execution_count": 67,
   "metadata": {},
   "outputs": [],
   "source": [
    "## here is a good example of using class methods\n",
    "\n",
    "import time\n",
    "\n",
    "class Date:\n",
    "    datefmt = '{year}-{month:02d}-{day:02d}'\n",
    "    def __init__(self, year, month, day):\n",
    "        self.year = year\n",
    "        self.month = month\n",
    "        self.day = day\n",
    "\n",
    "    def __repr__(self):\n",
    "        return self.datefmt.format(year=self.year,\n",
    "                                  month=self.month,\n",
    "                                  day=self.day)\n",
    "    @classmethod\n",
    "    def from_timestamp(cls, ts):\n",
    "        tm = time.localtime(ts)\n",
    "        return cls(tm.tm_year, tm.tm_mon, tm.tm_mday) # if you remove the cls, it becomes dumb dumb and returns everything as the same\n",
    "    \n",
    "    @classmethod\n",
    "    def today(cls):\n",
    "        return cls.from_timestamp(time.time())\n",
    "\n",
    "class MDYDate(Date):\n",
    "    datefmt = '{month}/{day}/{year}'\n",
    "    \n",
    "class DMYDate(Date):\n",
    "    datefmt = '{day}/{month}/{year}'"
   ]
  },
  {
   "cell_type": "code",
   "execution_count": 65,
   "metadata": {},
   "outputs": [
    {
     "name": "stdout",
     "output_type": "stream",
     "text": [
      "1967-04-09\n",
      "4/9/1967\n"
     ]
    }
   ],
   "source": [
    "a = Date(1967, 4, 9)\n",
    "print(a)\n",
    "\n",
    "b = MDYDate(1967, 4, 9)\n",
    "print(b)"
   ]
  },
  {
   "cell_type": "code",
   "execution_count": 66,
   "metadata": {},
   "outputs": [
    {
     "name": "stdout",
     "output_type": "stream",
     "text": [
      "(2025, 1, 30) (2025, 1, 30) (2025, 1, 30)\n"
     ]
    }
   ],
   "source": [
    "d1 = Date.today()\n",
    "d2 = MDYDate.today()\n",
    "d3 = DMYDate.today()\n",
    "\n",
    "print(d1, d2, d3)"
   ]
  },
  {
   "cell_type": "code",
   "execution_count": 68,
   "metadata": {},
   "outputs": [
    {
     "name": "stdout",
     "output_type": "stream",
     "text": [
      "30 10\n"
     ]
    }
   ],
   "source": [
    "## static method --> a method that just ended up being inside a class and takes in no self, no cls anything\n",
    "\n",
    "class Ops:\n",
    "    @staticmethod\n",
    "    def add(x, y):\n",
    "        return x + y\n",
    "    \n",
    "    @staticmethod\n",
    "    def sub(x, y):\n",
    "        return x- y\n",
    "\n",
    "a = Ops.add(10, 20)\n",
    "s = Ops.sub(20, 10)\n",
    "\n",
    "print(a, s)"
   ]
  },
  {
   "cell_type": "code",
   "execution_count": 70,
   "metadata": {},
   "outputs": [
    {
     "name": "stdout",
     "output_type": "stream",
     "text": [
      "1000\n"
     ]
    }
   ],
   "source": [
    "### private attributes --> use an _var by conventation to indicate its private, but you can still access it tho\n",
    "\n",
    "class Account:\n",
    "    def __init__(self, owner, balance):\n",
    "        self.owner = owner\n",
    "        self._balance = balance\n",
    "\n",
    "    def __repr__(self):\n",
    "        return f'Account({self.owner!r}, {self._balance!r})'\n",
    "    \n",
    "    def deposit(self, amount):\n",
    "        self._balance += amount\n",
    "\n",
    "    def withdraw(self, amount):\n",
    "        self._balance-= amount\n",
    "\n",
    "    def inquiry(self):\n",
    "        return self._balance\n",
    "\n",
    "\n",
    "a = Account('guido', 1000)\n",
    "print(a._balance) # but rather you should use the inquiry method"
   ]
  },
  {
   "cell_type": "code",
   "execution_count": 82,
   "metadata": {},
   "outputs": [
    {
     "name": "stdout",
     "output_type": "stream",
     "text": [
      "3\n"
     ]
    },
    {
     "data": {
      "text/plain": [
       "mappingproxy({'__module__': '__main__',\n",
       "              '__init__': <function __main__.A.__init__(self)>,\n",
       "              '_A__spam': <function __main__.A.__spam(self)>,\n",
       "              'bar': <function __main__.A.bar(self)>,\n",
       "              '__dict__': <attribute '__dict__' of 'A' objects>,\n",
       "              '__weakref__': <attribute '__weakref__' of 'A' objects>,\n",
       "              '__doc__': None})"
      ]
     },
     "execution_count": 82,
     "metadata": {},
     "output_type": "execute_result"
    }
   ],
   "source": [
    "## if you want an even more private attribute, use __var, this is called name mangling\n",
    "\n",
    "\n",
    "class A:\n",
    "    def __init__(self):\n",
    "        self.__x = 3 # Mangled to self._A__x\n",
    "\n",
    "    def __spam(self):\n",
    "        print('A.__spam', self.__x) # Mangled to _A__spam()\n",
    "    \n",
    "    def bar(self):\n",
    "        self.__spam() # Only calls A.__spam()\n",
    "\n",
    "a = A()\n",
    "#print(a__x) # throws an error\n",
    "\n",
    "print(a._A__x) # this works\n",
    "\n",
    "A.__dict__ # here you can see the mangled names"
   ]
  },
  {
   "cell_type": "code",
   "execution_count": 86,
   "metadata": {},
   "outputs": [
    {
     "name": "stdout",
     "output_type": "stream",
     "text": [
      "A.__spam 3\n"
     ]
    }
   ],
   "source": [
    "# a.__spam() woont work\n",
    "a._A__spam() # this works"
   ]
  },
  {
   "cell_type": "code",
   "execution_count": 87,
   "metadata": {},
   "outputs": [
    {
     "name": "stdout",
     "output_type": "stream",
     "text": [
      "A.__spam 3\n"
     ]
    }
   ],
   "source": [
    "# but you can call the bar\n",
    "a.bar()"
   ]
  },
  {
   "cell_type": "code",
   "execution_count": null,
   "metadata": {},
   "outputs": [],
   "source": []
  },
  {
   "cell_type": "markdown",
   "metadata": {},
   "source": [
    "#### WIP"
   ]
  },
  {
   "cell_type": "code",
   "execution_count": 1,
   "metadata": {},
   "outputs": [
    {
     "name": "stdout",
     "output_type": "stream",
     "text": [
      "Alice\n",
      "30\n"
     ]
    },
    {
     "ename": "AttributeError",
     "evalue": "property 'name' of 'Person' object has no setter",
     "output_type": "error",
     "traceback": [
      "\u001b[1;31m---------------------------------------------------------------------------\u001b[0m",
      "\u001b[1;31mAttributeError\u001b[0m                            Traceback (most recent call last)",
      "Cell \u001b[1;32mIn[1], line 20\u001b[0m\n\u001b[0;32m     17\u001b[0m \u001b[38;5;28mprint\u001b[39m(p\u001b[38;5;241m.\u001b[39mname)  \u001b[38;5;66;03m# ✅ Output: Alice (accessing method as an attribute)\u001b[39;00m\n\u001b[0;32m     18\u001b[0m \u001b[38;5;28mprint\u001b[39m(p\u001b[38;5;241m.\u001b[39mage)   \u001b[38;5;66;03m# ✅ Output: 30\u001b[39;00m\n\u001b[1;32m---> 20\u001b[0m \u001b[43mp\u001b[49m\u001b[38;5;241;43m.\u001b[39;49m\u001b[43mname\u001b[49m \u001b[38;5;241m=\u001b[39m \u001b[38;5;124m\"\u001b[39m\u001b[38;5;124mBob\u001b[39m\u001b[38;5;124m\"\u001b[39m  \u001b[38;5;66;03m# ❌ AttributeError: can't set attribute\u001b[39;00m\n",
      "\u001b[1;31mAttributeError\u001b[0m: property 'name' of 'Person' object has no setter"
     ]
    }
   ],
   "source": [
    "## property of a class ---> establish an attribute as a property and mainly used to create read only attributes\n",
    "\n",
    "class Person:\n",
    "    def __init__(self, name, age):\n",
    "        self._name = name  # Private attribute (_name)\n",
    "        self._age = age    # Private attribute (_age)\n",
    "\n",
    "    @property\n",
    "    def name(self):  # Getter method\n",
    "        return self._name\n",
    "\n",
    "    @property\n",
    "    def age(self):  # Getter method\n",
    "        return self._age\n",
    "\n",
    "p = Person(\"Alice\", 30)\n",
    "print(p.name)  # ✅ Output: Alice (accessing method as an attribute)\n",
    "print(p.age)   # ✅ Output: 30\n",
    "\n",
    "p.name = \"Bob\"  # ❌ AttributeError: can't set attribute"
   ]
  },
  {
   "cell_type": "code",
   "execution_count": 2,
   "metadata": {},
   "outputs": [
    {
     "name": "stdout",
     "output_type": "stream",
     "text": [
      "Alice\n",
      "Bob\n"
     ]
    },
    {
     "ename": "ValueError",
     "evalue": "Name must be a string",
     "output_type": "error",
     "traceback": [
      "\u001b[1;31m---------------------------------------------------------------------------\u001b[0m",
      "\u001b[1;31mValueError\u001b[0m                                Traceback (most recent call last)",
      "Cell \u001b[1;32mIn[2], line 24\u001b[0m\n\u001b[0;32m     21\u001b[0m p\u001b[38;5;241m.\u001b[39mname \u001b[38;5;241m=\u001b[39m \u001b[38;5;124m\"\u001b[39m\u001b[38;5;124mBob\u001b[39m\u001b[38;5;124m\"\u001b[39m  \u001b[38;5;66;03m# ✅ Allowed (calls setter)\u001b[39;00m\n\u001b[0;32m     22\u001b[0m \u001b[38;5;28mprint\u001b[39m(p\u001b[38;5;241m.\u001b[39mname)   \u001b[38;5;66;03m# ✅ Output: Bob\u001b[39;00m\n\u001b[1;32m---> 24\u001b[0m \u001b[43mp\u001b[49m\u001b[38;5;241;43m.\u001b[39;49m\u001b[43mname\u001b[49m \u001b[38;5;241m=\u001b[39m \u001b[38;5;241m123\u001b[39m  \u001b[38;5;66;03m# ❌ Raises ValueError: Name must be a string\u001b[39;00m\n",
      "Cell \u001b[1;32mIn[2], line 16\u001b[0m, in \u001b[0;36mPerson.name\u001b[1;34m(self, new_name)\u001b[0m\n\u001b[0;32m     14\u001b[0m     \u001b[38;5;28mself\u001b[39m\u001b[38;5;241m.\u001b[39m_name \u001b[38;5;241m=\u001b[39m new_name\n\u001b[0;32m     15\u001b[0m \u001b[38;5;28;01melse\u001b[39;00m:\n\u001b[1;32m---> 16\u001b[0m     \u001b[38;5;28;01mraise\u001b[39;00m \u001b[38;5;167;01mValueError\u001b[39;00m(\u001b[38;5;124m\"\u001b[39m\u001b[38;5;124mName must be a string\u001b[39m\u001b[38;5;124m\"\u001b[39m)\n",
      "\u001b[1;31mValueError\u001b[0m: Name must be a string"
     ]
    }
   ],
   "source": [
    "## you can also use the setter to allow for modifications\n",
    "\n",
    "class Person:\n",
    "    def __init__(self, name):\n",
    "        self._name = name\n",
    "\n",
    "    @property\n",
    "    def name(self):  # Getter\n",
    "        return self._name\n",
    "\n",
    "    @name.setter\n",
    "    def name(self, new_name):  # Setter\n",
    "        if isinstance(new_name, str):\n",
    "            self._name = new_name\n",
    "        else:\n",
    "            raise ValueError(\"Name must be a string\")\n",
    "\n",
    "p = Person(\"Alice\")\n",
    "print(p.name)  # ✅ Output: Alice\n",
    "\n",
    "p.name = \"Bob\"  # ✅ Allowed (calls setter)\n",
    "print(p.name)   # ✅ Output: Bob\n",
    "\n",
    "p.name = 123  # ❌ Raises ValueError: Name must be a string"
   ]
  },
  {
   "cell_type": "code",
   "execution_count": 3,
   "metadata": {},
   "outputs": [
    {
     "name": "stdout",
     "output_type": "stream",
     "text": [
      "alice\n",
      "alice\n"
     ]
    }
   ],
   "source": [
    "### you can set property two ways\n",
    "\n",
    "\n",
    "# First Case: Read-Only Property (Account)\n",
    "\n",
    "class Account:\n",
    "    def __init__(self, owner, balance):\n",
    "        self._owner = owner  # ✅ Store value in a private variable\n",
    "        self._balance = balance\n",
    "\n",
    "    @property\n",
    "    def owner(self):  # ✅ Read-only property\n",
    "        return self._owner\n",
    "\n",
    "#a = Account(\"alice\", 20)\n",
    "#print(a.owner)  # ✅ Output: alice\n",
    "#a.owner = \"bob\"  # ❌ AttributeError: can't set attribute\n",
    "\n",
    "# @property allows owner to be accessed like an attribute, but it cannot be modified.\n",
    "# When print(a.owner) is called, it executes return self._owner.\n",
    "# However, a.owner = \"bob\" raises an AttributeError because no setter is defined.\n",
    "\n",
    "#✅ Use Case: When you want owner to be read-only.\n",
    "\n",
    "# Second Case: Read-Write Property (Account2)\n",
    "\n",
    "class Account2:\n",
    "    def __init__(self, owner, balance):\n",
    "        self.owner = owner  # ✅ Calls the setter method\n",
    "        self.balance = balance\n",
    "\n",
    "    @property\n",
    "    def owner(self):\n",
    "        return self._owner  # ✅ Getter method\n",
    "\n",
    "    @owner.setter\n",
    "    def owner(self, new_owner):\n",
    "        self._owner = new_owner  # ✅ Allows modifying _owner\n",
    "\n",
    "a = Account2(\"alice\", 20)\n",
    "print(a.owner)  # ✅ Output: alice\n",
    "\n",
    "a.owner = \"bob\"  # ✅ Allowed due to the setter\n",
    "print(a.owner)  # ✅ Output: bob\n",
    "\n",
    "# self.owner = owner in __init__() calls the setter method (@owner.setter).\n",
    "# The setter stores the value in _owner.\n",
    "# Since a setter exists, a.owner = \"bob\" updates _owner successfully.\n",
    "\n",
    "#✅ Use Case: When you need a controlled way to modify the attribute."
   ]
  },
  {
   "cell_type": "code",
   "execution_count": null,
   "metadata": {},
   "outputs": [],
   "source": []
  }
 ],
 "metadata": {
  "kernelspec": {
   "display_name": ".env",
   "language": "python",
   "name": "python3"
  },
  "language_info": {
   "codemirror_mode": {
    "name": "ipython",
    "version": 3
   },
   "file_extension": ".py",
   "mimetype": "text/x-python",
   "name": "python",
   "nbconvert_exporter": "python",
   "pygments_lexer": "ipython3",
   "version": "3.11.9"
  }
 },
 "nbformat": 4,
 "nbformat_minor": 2
}
